{
  "cells": [
    {
      "cell_type": "markdown",
      "metadata": {
        "id": "view-in-github",
        "colab_type": "text"
      },
      "source": [
        "<a href=\"https://colab.research.google.com/github/izaki1994/Blind-Assistance-Object-Detection-and-Navigation/blob/master/Image_Captioning_InceptionV3.ipynb\" target=\"_parent\"><img src=\"https://colab.research.google.com/assets/colab-badge.svg\" alt=\"Open In Colab\"/></a>"
      ]
    },
    {
      "cell_type": "code",
      "execution_count": 29,
      "metadata": {
        "deletable": true,
        "editable": true,
        "id": "kx-tnymAt5hN"
      },
      "outputs": [],
      "source": [
        "import glob\n",
        "from PIL import Image\n",
        "import numpy as np\n",
        "import matplotlib.pyplot as plt\n",
        "%matplotlib inline\n",
        "import pickle\n",
        "from tqdm import tqdm\n",
        "import pandas as pd\n",
        "from keras.preprocessing import sequence\n",
        "from keras.models import Sequential\n",
        "from keras.layers import LSTM, Embedding, TimeDistributed, Dense, RepeatVector, merge, Activation, Flatten\n",
        "from tensorflow.keras.optimizers import Adam, RMSprop\n",
        "from keras.layers.wrappers import Bidirectional\n",
        "from keras.applications.inception_v3 import InceptionV3\n",
        "from keras.preprocessing import image\n",
        "import nltk"
      ]
    },
    {
      "cell_type": "code",
      "execution_count": 30,
      "metadata": {
        "collapsed": true,
        "deletable": true,
        "editable": true,
        "id": "G250lEkat5hS"
      },
      "outputs": [],
      "source": [
        "token = 'Flickr8k.token.txt'"
      ]
    },
    {
      "cell_type": "code",
      "execution_count": 31,
      "metadata": {
        "deletable": true,
        "editable": true,
        "id": "rmGTEX0Vt5hT"
      },
      "outputs": [],
      "source": [
        "captions = open(token, 'r').read().strip().split('\\n')"
      ]
    },
    {
      "cell_type": "markdown",
      "metadata": {
        "deletable": true,
        "editable": true,
        "id": "slJHADkwt5hT"
      },
      "source": [
        "## Creating a dictionary containing all the captions of the images"
      ]
    },
    {
      "cell_type": "code",
      "execution_count": 32,
      "metadata": {
        "deletable": true,
        "editable": true,
        "id": "coXWIKTUt5hW"
      },
      "outputs": [],
      "source": [
        "d = {}\n",
        "for i, row in enumerate(captions):\n",
        "    row = row.split('\\t')\n",
        "    row[0] = row[0][:len(row[0])-2]\n",
        "    if row[0] in d:\n",
        "        d[row[0]].append(row[1])\n",
        "    else:\n",
        "        d[row[0]] = [row[1]]"
      ]
    },
    {
      "cell_type": "code",
      "execution_count": 33,
      "metadata": {
        "deletable": true,
        "editable": true,
        "colab": {
          "base_uri": "https://localhost:8080/"
        },
        "id": "5o3wqTuLt5hX",
        "outputId": "dd011422-093b-4904-ca85-d655a7a14ab4"
      },
      "outputs": [
        {
          "output_type": "execute_result",
          "data": {
            "text/plain": [
              "['A child in a pink dress is climbing up a set of stairs in an entry way .',\n",
              " 'A girl going into a wooden building .',\n",
              " 'A little girl climbing into a wooden playhouse .',\n",
              " 'A little girl climbing the stairs to her playhouse .',\n",
              " 'A little girl in a pink dress going into a wooden cabin .']"
            ]
          },
          "metadata": {},
          "execution_count": 33
        }
      ],
      "source": [
        "d['1000268201_693b08cb0e.jpg']"
      ]
    },
    {
      "cell_type": "code",
      "execution_count": 34,
      "metadata": {
        "collapsed": true,
        "deletable": true,
        "editable": true,
        "id": "WxBgHjDit5hY"
      },
      "outputs": [],
      "source": [
        "images = 'Flickr8k_Dataset/Flicker8k_Dataset/'"
      ]
    },
    {
      "cell_type": "code",
      "execution_count": 35,
      "metadata": {
        "deletable": true,
        "editable": true,
        "id": "VZiLNHget5hY"
      },
      "outputs": [],
      "source": [
        "# Contains all the images\n",
        "img = glob.glob(images+'*.jpg')"
      ]
    },
    {
      "cell_type": "code",
      "execution_count": 36,
      "metadata": {
        "deletable": true,
        "editable": true,
        "colab": {
          "base_uri": "https://localhost:8080/"
        },
        "id": "aHe-HeZyt5hZ",
        "outputId": "986eb2c4-4e7b-4d0c-ddbb-798b917bc3de"
      },
      "outputs": [
        {
          "output_type": "execute_result",
          "data": {
            "text/plain": [
              "[]"
            ]
          },
          "metadata": {},
          "execution_count": 36
        }
      ],
      "source": [
        "img[:5]"
      ]
    },
    {
      "cell_type": "code",
      "execution_count": 37,
      "metadata": {
        "deletable": true,
        "editable": true,
        "id": "FM7k83ZKt5ha"
      },
      "outputs": [],
      "source": [
        "train_images_file = 'Flickr8k_text/Flickr_8k.trainImages.txt'"
      ]
    },
    {
      "cell_type": "code",
      "execution_count": 38,
      "metadata": {
        "collapsed": true,
        "deletable": true,
        "editable": true,
        "colab": {
          "base_uri": "https://localhost:8080/",
          "height": 165
        },
        "id": "HMdXO36Lt5hb",
        "outputId": "19c4c62c-98cb-4b1e-81ef-5d9a33634327"
      },
      "outputs": [
        {
          "output_type": "error",
          "ename": "FileNotFoundError",
          "evalue": "ignored",
          "traceback": [
            "\u001b[0;31m---------------------------------------------------------------------------\u001b[0m",
            "\u001b[0;31mFileNotFoundError\u001b[0m                         Traceback (most recent call last)",
            "\u001b[0;32m<ipython-input-38-eff3630a20cb>\u001b[0m in \u001b[0;36m<module>\u001b[0;34m()\u001b[0m\n\u001b[0;32m----> 1\u001b[0;31m \u001b[0mtrain_images\u001b[0m \u001b[0;34m=\u001b[0m \u001b[0mset\u001b[0m\u001b[0;34m(\u001b[0m\u001b[0mopen\u001b[0m\u001b[0;34m(\u001b[0m\u001b[0mtrain_images_file\u001b[0m\u001b[0;34m,\u001b[0m \u001b[0;34m'r'\u001b[0m\u001b[0;34m)\u001b[0m\u001b[0;34m.\u001b[0m\u001b[0mread\u001b[0m\u001b[0;34m(\u001b[0m\u001b[0;34m)\u001b[0m\u001b[0;34m.\u001b[0m\u001b[0mstrip\u001b[0m\u001b[0;34m(\u001b[0m\u001b[0;34m)\u001b[0m\u001b[0;34m.\u001b[0m\u001b[0msplit\u001b[0m\u001b[0;34m(\u001b[0m\u001b[0;34m'\\n'\u001b[0m\u001b[0;34m)\u001b[0m\u001b[0;34m)\u001b[0m\u001b[0;34m\u001b[0m\u001b[0;34m\u001b[0m\u001b[0m\n\u001b[0m",
            "\u001b[0;31mFileNotFoundError\u001b[0m: [Errno 2] No such file or directory: 'Flickr8k_text/Flickr_8k.trainImages.txt'"
          ]
        }
      ],
      "source": [
        "train_images = set(open(train_images_file, 'r').read().strip().split('\\n'))"
      ]
    },
    {
      "cell_type": "code",
      "execution_count": null,
      "metadata": {
        "deletable": true,
        "editable": true,
        "id": "x7Z-4h7Et5hb"
      },
      "outputs": [],
      "source": [
        "def split_data(l):\n",
        "    temp = []\n",
        "    for i in img:\n",
        "        if i[len(images):] in l:\n",
        "            temp.append(i)\n",
        "    return temp"
      ]
    },
    {
      "cell_type": "code",
      "execution_count": null,
      "metadata": {
        "deletable": true,
        "editable": true,
        "id": "WWdBqoSOt5hc"
      },
      "outputs": [],
      "source": [
        "# Getting the training images from all the images\n",
        "train_img = split_data(train_images)\n",
        "len(train_img)"
      ]
    },
    {
      "cell_type": "code",
      "execution_count": null,
      "metadata": {
        "deletable": true,
        "editable": true,
        "id": "WQJ77Qnrt5hc"
      },
      "outputs": [],
      "source": [
        "val_images_file = 'Flickr8k_text/Flickr_8k.devImages.txt'\n",
        "val_images = set(open(val_images_file, 'r').read().strip().split('\\n'))"
      ]
    },
    {
      "cell_type": "code",
      "execution_count": null,
      "metadata": {
        "deletable": true,
        "editable": true,
        "id": "nKWjuHmZt5hd"
      },
      "outputs": [],
      "source": [
        "# Getting the validation images from all the images\n",
        "val_img = split_data(val_images)\n",
        "len(val_img)"
      ]
    },
    {
      "cell_type": "code",
      "execution_count": null,
      "metadata": {
        "collapsed": true,
        "deletable": true,
        "editable": true,
        "id": "hMWOS7zKt5hd"
      },
      "outputs": [],
      "source": [
        "test_images_file = 'Flickr8k_text/Flickr_8k.testImages.txt'\n",
        "test_images = set(open(test_images_file, 'r').read().strip().split('\\n'))"
      ]
    },
    {
      "cell_type": "code",
      "execution_count": null,
      "metadata": {
        "deletable": true,
        "editable": true,
        "id": "E4W7Zl-At5hd"
      },
      "outputs": [],
      "source": [
        "# Getting the testing images from all the images\n",
        "test_img = split_data(test_images)\n",
        "len(test_img)"
      ]
    },
    {
      "cell_type": "code",
      "execution_count": null,
      "metadata": {
        "deletable": true,
        "editable": true,
        "id": "M_wL6uMLt5he"
      },
      "outputs": [],
      "source": [
        "Image.open(train_img[0])"
      ]
    },
    {
      "cell_type": "code",
      "execution_count": null,
      "metadata": {
        "collapsed": true,
        "deletable": true,
        "editable": true,
        "id": "4rHH0cYet5he"
      },
      "outputs": [],
      "source": [
        ""
      ]
    },
    {
      "cell_type": "code",
      "execution_count": null,
      "metadata": {
        "collapsed": true,
        "deletable": true,
        "editable": true,
        "id": "MEHW_3lSt5he"
      },
      "outputs": [],
      "source": [
        ""
      ]
    },
    {
      "cell_type": "markdown",
      "metadata": {
        "deletable": true,
        "editable": true,
        "id": "ThyZUbcFt5he"
      },
      "source": [
        "We will feed these images to VGG-16 to get the encoded images. Hence we need to preprocess the images as the authors of VGG-16 did. The last layer of VGG-16 is the softmax classifier(FC layer with 1000 hidden neurons) which returns the probability of a class. This layer should be removed so as to get a feature representation of an image. We will use the last Dense layer(4096 hidden neurons) after popping the classifier layer. Hence the shape of the encoded image will be (1, 4096)"
      ]
    },
    {
      "cell_type": "code",
      "execution_count": null,
      "metadata": {
        "collapsed": true,
        "deletable": true,
        "editable": true,
        "id": "84y61KrDt5hf"
      },
      "outputs": [],
      "source": [
        "def preprocess_input(x):\n",
        "    x /= 255.\n",
        "    x -= 0.5\n",
        "    x *= 2.\n",
        "    return x"
      ]
    },
    {
      "cell_type": "code",
      "execution_count": null,
      "metadata": {
        "deletable": true,
        "editable": true,
        "id": "OLrtkfMTt5hf"
      },
      "outputs": [],
      "source": [
        "def preprocess(image_path):\n",
        "    img = image.load_img(image_path, target_size=(299, 299))\n",
        "    x = image.img_to_array(img)\n",
        "    x = np.expand_dims(x, axis=0)\n",
        "\n",
        "    x = preprocess_input(x)\n",
        "    return x"
      ]
    },
    {
      "cell_type": "code",
      "execution_count": null,
      "metadata": {
        "deletable": true,
        "editable": true,
        "id": "jaF4cMw6t5hg"
      },
      "outputs": [],
      "source": [
        "plt.imshow(np.squeeze(preprocess(train_img[0])))"
      ]
    },
    {
      "cell_type": "code",
      "execution_count": null,
      "metadata": {
        "deletable": true,
        "editable": true,
        "id": "Mc2gedVkt5hg"
      },
      "outputs": [],
      "source": [
        "model = InceptionV3(weights='imagenet')"
      ]
    },
    {
      "cell_type": "code",
      "execution_count": null,
      "metadata": {
        "collapsed": true,
        "deletable": true,
        "editable": true,
        "id": "EtE_NeW6t5hg"
      },
      "outputs": [],
      "source": [
        "from keras.models import Model\n",
        "\n",
        "new_input = model.input\n",
        "hidden_layer = model.layers[-2].output\n",
        "\n",
        "model_new = Model(new_input, hidden_layer)"
      ]
    },
    {
      "cell_type": "code",
      "execution_count": null,
      "metadata": {
        "collapsed": true,
        "id": "LH_5zwDKt5hh"
      },
      "outputs": [],
      "source": [
        ""
      ]
    },
    {
      "cell_type": "code",
      "execution_count": null,
      "metadata": {
        "deletable": true,
        "editable": true,
        "id": "9KMQxYcft5hh"
      },
      "outputs": [],
      "source": [
        "tryi = model_new.predict(preprocess(train_img[0]))"
      ]
    },
    {
      "cell_type": "code",
      "execution_count": null,
      "metadata": {
        "deletable": true,
        "editable": true,
        "id": "Pj599OHgt5hh"
      },
      "outputs": [],
      "source": [
        "tryi.shape"
      ]
    },
    {
      "cell_type": "code",
      "execution_count": null,
      "metadata": {
        "deletable": true,
        "editable": true,
        "id": "YeRYRzxft5hh"
      },
      "outputs": [],
      "source": [
        ""
      ]
    },
    {
      "cell_type": "code",
      "execution_count": null,
      "metadata": {
        "collapsed": true,
        "deletable": true,
        "editable": true,
        "id": "rf209cZXt5hh"
      },
      "outputs": [],
      "source": [
        "def encode(image):\n",
        "    image = preprocess(image)\n",
        "    temp_enc = model_new.predict(image)\n",
        "    temp_enc = np.reshape(temp_enc, temp_enc.shape[1])\n",
        "    return temp_enc"
      ]
    },
    {
      "cell_type": "code",
      "execution_count": null,
      "metadata": {
        "deletable": true,
        "editable": true,
        "id": "IAaq7vURt5hi"
      },
      "outputs": [],
      "source": [
        "encoding_train = {}\n",
        "for img in tqdm(train_img):\n",
        "    encoding_train[img[len(images):]] = encode(img)"
      ]
    },
    {
      "cell_type": "code",
      "execution_count": null,
      "metadata": {
        "deletable": true,
        "editable": true,
        "id": "wWpwhoCnt5hi"
      },
      "outputs": [],
      "source": [
        "with open(\"encoded_images_inceptionV3.p\", \"wb\") as encoded_pickle:\n",
        "    pickle.dump(encoding_train, encoded_pickle) "
      ]
    },
    {
      "cell_type": "code",
      "execution_count": null,
      "metadata": {
        "deletable": true,
        "editable": true,
        "id": "44COh1idt5hi"
      },
      "outputs": [],
      "source": [
        "encoding_train = pickle.load(open('encoded_images_inceptionV3.p', 'rb'))"
      ]
    },
    {
      "cell_type": "code",
      "execution_count": null,
      "metadata": {
        "deletable": true,
        "editable": true,
        "id": "W6MAXXByt5hi"
      },
      "outputs": [],
      "source": [
        "encoding_train['3556792157_d09d42bef7.jpg'].shape"
      ]
    },
    {
      "cell_type": "code",
      "execution_count": null,
      "metadata": {
        "collapsed": true,
        "deletable": true,
        "editable": true,
        "id": "PRVKJ-Ict5hj"
      },
      "outputs": [],
      "source": [
        ""
      ]
    },
    {
      "cell_type": "code",
      "execution_count": null,
      "metadata": {
        "deletable": true,
        "editable": true,
        "id": "pMEg7Nkft5hj"
      },
      "outputs": [],
      "source": [
        "encoding_test = {}\n",
        "for img in tqdm(test_img):\n",
        "    encoding_test[img[len(images):]] = encode(img)"
      ]
    },
    {
      "cell_type": "code",
      "execution_count": null,
      "metadata": {
        "collapsed": true,
        "deletable": true,
        "editable": true,
        "id": "qJKeSPnyt5hj"
      },
      "outputs": [],
      "source": [
        "with open(\"encoded_images_test_inceptionV3.p\", \"wb\") as encoded_pickle:\n",
        "    pickle.dump(encoding_test, encoded_pickle) "
      ]
    },
    {
      "cell_type": "code",
      "execution_count": null,
      "metadata": {
        "deletable": true,
        "editable": true,
        "id": "8D4shixet5hk"
      },
      "outputs": [],
      "source": [
        "encoding_test = pickle.load(open('encoded_images_test_inceptionV3.p', 'rb'))"
      ]
    },
    {
      "cell_type": "code",
      "execution_count": null,
      "metadata": {
        "deletable": true,
        "editable": true,
        "id": "sX4HjMCNt5hk"
      },
      "outputs": [],
      "source": [
        "encoding_test[test_img[0][len(images):]].shape"
      ]
    },
    {
      "cell_type": "code",
      "execution_count": null,
      "metadata": {
        "collapsed": true,
        "deletable": true,
        "editable": true,
        "id": "amPU5iXVt5hk"
      },
      "outputs": [],
      "source": [
        ""
      ]
    },
    {
      "cell_type": "code",
      "execution_count": null,
      "metadata": {
        "collapsed": true,
        "deletable": true,
        "editable": true,
        "id": "IABlMkh8t5hk"
      },
      "outputs": [],
      "source": [
        ""
      ]
    },
    {
      "cell_type": "code",
      "execution_count": null,
      "metadata": {
        "deletable": true,
        "editable": true,
        "id": "XbRnnZTgt5hk"
      },
      "outputs": [],
      "source": [
        "train_d = {}\n",
        "for i in train_img:\n",
        "    if i[len(images):] in d:\n",
        "        train_d[i] = d[i[len(images):]]"
      ]
    },
    {
      "cell_type": "code",
      "execution_count": null,
      "metadata": {
        "deletable": true,
        "editable": true,
        "id": "9jNIf4Dft5hk"
      },
      "outputs": [],
      "source": [
        "len(train_d)"
      ]
    },
    {
      "cell_type": "code",
      "execution_count": null,
      "metadata": {
        "deletable": true,
        "editable": true,
        "id": "ftLybfqet5hl"
      },
      "outputs": [],
      "source": [
        "train_d[images+'3556792157_d09d42bef7.jpg']"
      ]
    },
    {
      "cell_type": "code",
      "execution_count": null,
      "metadata": {
        "collapsed": true,
        "deletable": true,
        "editable": true,
        "id": "cV3iApfKt5hl"
      },
      "outputs": [],
      "source": [
        "val_d = {}\n",
        "for i in val_img:\n",
        "    if i[len(images):] in d:\n",
        "        val_d[i] = d[i[len(images):]]"
      ]
    },
    {
      "cell_type": "code",
      "execution_count": null,
      "metadata": {
        "deletable": true,
        "editable": true,
        "id": "kXfCXwD4t5hl"
      },
      "outputs": [],
      "source": [
        "len(val_d)"
      ]
    },
    {
      "cell_type": "code",
      "execution_count": null,
      "metadata": {
        "collapsed": true,
        "deletable": true,
        "editable": true,
        "id": "7qgDKQcAt5hl"
      },
      "outputs": [],
      "source": [
        "test_d = {}\n",
        "for i in test_img:\n",
        "    if i[len(images):] in d:\n",
        "        test_d[i] = d[i[len(images):]]"
      ]
    },
    {
      "cell_type": "code",
      "execution_count": null,
      "metadata": {
        "deletable": true,
        "editable": true,
        "id": "imVeEYHNt5hm"
      },
      "outputs": [],
      "source": [
        "len(test_d)"
      ]
    },
    {
      "cell_type": "code",
      "execution_count": null,
      "metadata": {
        "deletable": true,
        "editable": true,
        "id": "BlB3U-PVt5hm"
      },
      "outputs": [],
      "source": [
        ""
      ]
    },
    {
      "cell_type": "code",
      "execution_count": null,
      "metadata": {
        "collapsed": true,
        "deletable": true,
        "editable": true,
        "id": "cDqNJvEht5hm"
      },
      "outputs": [],
      "source": [
        ""
      ]
    },
    {
      "cell_type": "markdown",
      "metadata": {
        "collapsed": true,
        "deletable": true,
        "editable": true,
        "id": "Lx51oyMFt5hm"
      },
      "source": [
        "Calculating the unique words in the vocabulary."
      ]
    },
    {
      "cell_type": "code",
      "execution_count": null,
      "metadata": {
        "deletable": true,
        "editable": true,
        "id": "N4gPIJQEt5hm"
      },
      "outputs": [],
      "source": [
        "caps = []\n",
        "for key, val in train_d.items():\n",
        "    for i in val:\n",
        "        caps.append('<start> ' + i + ' <end>')"
      ]
    },
    {
      "cell_type": "code",
      "execution_count": null,
      "metadata": {
        "deletable": true,
        "editable": true,
        "id": "zwsMH5eJt5hn"
      },
      "outputs": [],
      "source": [
        "words = [i.split() for i in caps]"
      ]
    },
    {
      "cell_type": "code",
      "execution_count": null,
      "metadata": {
        "deletable": true,
        "editable": true,
        "id": "WVHmuPQIt5hn"
      },
      "outputs": [],
      "source": [
        "unique = []\n",
        "for i in words:\n",
        "    unique.extend(i)"
      ]
    },
    {
      "cell_type": "code",
      "execution_count": null,
      "metadata": {
        "deletable": true,
        "editable": true,
        "id": "IovmQLert5hn"
      },
      "outputs": [],
      "source": [
        "unique = list(set(unique))"
      ]
    },
    {
      "cell_type": "code",
      "execution_count": null,
      "metadata": {
        "collapsed": true,
        "deletable": true,
        "editable": true,
        "id": "i7lGZ-vUt5hn"
      },
      "outputs": [],
      "source": [
        "# with open(\"unique.p\", \"wb\") as pickle_d:\n",
        "#     pickle.dump(unique, pickle_d) "
      ]
    },
    {
      "cell_type": "code",
      "execution_count": null,
      "metadata": {
        "collapsed": true,
        "deletable": true,
        "editable": true,
        "id": "nTpzqY-ht5hn"
      },
      "outputs": [],
      "source": [
        "unique = pickle.load(open('unique.p', 'rb'))"
      ]
    },
    {
      "cell_type": "code",
      "execution_count": null,
      "metadata": {
        "deletable": true,
        "editable": true,
        "id": "6Ba-PVxkt5ho"
      },
      "outputs": [],
      "source": [
        "len(unique)"
      ]
    },
    {
      "cell_type": "markdown",
      "metadata": {
        "collapsed": false,
        "deletable": true,
        "editable": true,
        "id": "fRIW-6fVt5ho"
      },
      "source": [
        "Mapping the unique words to indices and vice-versa"
      ]
    },
    {
      "cell_type": "code",
      "execution_count": null,
      "metadata": {
        "deletable": true,
        "editable": true,
        "id": "SWQBBtcRt5ho"
      },
      "outputs": [],
      "source": [
        "word2idx = {val:index for index, val in enumerate(unique)}"
      ]
    },
    {
      "cell_type": "code",
      "execution_count": null,
      "metadata": {
        "deletable": true,
        "editable": true,
        "id": "1AwAKbsNt5ho"
      },
      "outputs": [],
      "source": [
        "word2idx['<start>']"
      ]
    },
    {
      "cell_type": "code",
      "execution_count": null,
      "metadata": {
        "collapsed": true,
        "deletable": true,
        "editable": true,
        "id": "5DXoDeqqt5ho"
      },
      "outputs": [],
      "source": [
        "idx2word = {index:val for index, val in enumerate(unique)}"
      ]
    },
    {
      "cell_type": "code",
      "execution_count": null,
      "metadata": {
        "deletable": true,
        "editable": true,
        "id": "QWMDx9-Rt5hp"
      },
      "outputs": [],
      "source": [
        "idx2word[5553]"
      ]
    },
    {
      "cell_type": "markdown",
      "metadata": {
        "deletable": true,
        "editable": true,
        "id": "FYHvrL2vt5hp"
      },
      "source": [
        "Calculating the maximum length among all the captions"
      ]
    },
    {
      "cell_type": "code",
      "execution_count": null,
      "metadata": {
        "deletable": true,
        "editable": true,
        "id": "hlgwxNyWt5hp"
      },
      "outputs": [],
      "source": [
        "max_len = 0\n",
        "for c in caps:\n",
        "    c = c.split()\n",
        "    if len(c) > max_len:\n",
        "        max_len = len(c)\n",
        "max_len"
      ]
    },
    {
      "cell_type": "code",
      "execution_count": null,
      "metadata": {
        "deletable": true,
        "editable": true,
        "id": "mwVuAubit5hp"
      },
      "outputs": [],
      "source": [
        "len(unique), max_len"
      ]
    },
    {
      "cell_type": "code",
      "execution_count": null,
      "metadata": {
        "collapsed": true,
        "deletable": true,
        "editable": true,
        "id": "TC9S7Kxkt5hq"
      },
      "outputs": [],
      "source": [
        "vocab_size = len(unique)"
      ]
    },
    {
      "cell_type": "code",
      "execution_count": null,
      "metadata": {
        "deletable": true,
        "editable": true,
        "id": "LIC_isK5t5hq"
      },
      "outputs": [],
      "source": [
        "vocab_size"
      ]
    },
    {
      "cell_type": "code",
      "execution_count": null,
      "metadata": {
        "collapsed": true,
        "deletable": true,
        "editable": true,
        "id": "JW9XL7Oqt5hq"
      },
      "outputs": [],
      "source": [
        ""
      ]
    },
    {
      "cell_type": "code",
      "execution_count": null,
      "metadata": {
        "collapsed": true,
        "deletable": true,
        "editable": true,
        "id": "vFGnrV2St5hq"
      },
      "outputs": [],
      "source": [
        ""
      ]
    },
    {
      "cell_type": "markdown",
      "metadata": {
        "collapsed": true,
        "deletable": true,
        "editable": true,
        "id": "DU5aAnCZt5hq"
      },
      "source": [
        "Adding <start> and <end> to all the captions to indicate the starting and ending of a sentence. This will be used while we predict the caption of an image"
      ]
    },
    {
      "cell_type": "code",
      "execution_count": null,
      "metadata": {
        "deletable": true,
        "editable": true,
        "id": "FutT8aPLt5hq"
      },
      "outputs": [],
      "source": [
        "f = open('flickr8k_training_dataset.txt', 'w')\n",
        "f.write(\"image_id\\tcaptions\\n\")"
      ]
    },
    {
      "cell_type": "code",
      "execution_count": null,
      "metadata": {
        "deletable": true,
        "editable": true,
        "id": "LAAjz5jEt5hr"
      },
      "outputs": [],
      "source": [
        "for key, val in train_d.items():\n",
        "    for i in val:\n",
        "        f.write(key[len(images):] + \"\\t\" + \"<start> \" + i +\" <end>\" + \"\\n\")\n",
        "\n",
        "f.close()"
      ]
    },
    {
      "cell_type": "code",
      "execution_count": null,
      "metadata": {
        "deletable": true,
        "editable": true,
        "id": "RIvJK6hZt5hr"
      },
      "outputs": [],
      "source": [
        "df = pd.read_csv('flickr8k_training_dataset.txt', delimiter='\\t')"
      ]
    },
    {
      "cell_type": "code",
      "execution_count": null,
      "metadata": {
        "deletable": true,
        "editable": true,
        "id": "cNWY-oS3t5hr"
      },
      "outputs": [],
      "source": [
        "len(df)"
      ]
    },
    {
      "cell_type": "code",
      "execution_count": null,
      "metadata": {
        "deletable": true,
        "editable": true,
        "id": "-IF1Kbt-t5hr"
      },
      "outputs": [],
      "source": [
        "c = [i for i in df['captions']]\n",
        "len(c)"
      ]
    },
    {
      "cell_type": "code",
      "execution_count": null,
      "metadata": {
        "collapsed": true,
        "deletable": true,
        "editable": true,
        "id": "4bbG-biVt5hs"
      },
      "outputs": [],
      "source": [
        "imgs = [i for i in df['image_id']]"
      ]
    },
    {
      "cell_type": "code",
      "execution_count": null,
      "metadata": {
        "deletable": true,
        "editable": true,
        "id": "vIgkEuzot5hs"
      },
      "outputs": [],
      "source": [
        "a = c[-1]\n",
        "a, imgs[-1]"
      ]
    },
    {
      "cell_type": "code",
      "execution_count": null,
      "metadata": {
        "deletable": true,
        "editable": true,
        "id": "ODCDtXixt5hs"
      },
      "outputs": [],
      "source": [
        "for i in a.split():\n",
        "    print (i, \"=>\", word2idx[i])"
      ]
    },
    {
      "cell_type": "code",
      "execution_count": null,
      "metadata": {
        "deletable": true,
        "editable": true,
        "id": "iwnL3EXut5hs"
      },
      "outputs": [],
      "source": [
        "samples_per_epoch = 0\n",
        "for ca in caps:\n",
        "    samples_per_epoch += len(ca.split())-1"
      ]
    },
    {
      "cell_type": "code",
      "execution_count": null,
      "metadata": {
        "deletable": true,
        "editable": true,
        "id": "W7FL35_qt5hs"
      },
      "outputs": [],
      "source": [
        "samples_per_epoch"
      ]
    },
    {
      "cell_type": "markdown",
      "metadata": {
        "deletable": true,
        "editable": true,
        "id": "NV7XLlmpt5ht"
      },
      "source": [
        "## Generator \n",
        "\n",
        "We will use the encoding of an image and use a start word to predict the next word.\n",
        "After that, we will again use the same image and use the predicted word \n",
        "to predict the next word.\n",
        "So, the image will be used at every iteration for the entire caption. \n",
        "This is how we will generate the caption for an image. Hence, we need to create \n",
        "a custom generator for that.\n",
        "\n",
        "The CS231n lecture by Andrej Karpathy explains this concept very clearly and beautifully.\n",
        "Link for the lecture:- https://youtu.be/cO0a0QYmFm8?t=32m25s"
      ]
    },
    {
      "cell_type": "code",
      "execution_count": null,
      "metadata": {
        "deletable": true,
        "editable": true,
        "id": "tRB9crxwt5ht"
      },
      "outputs": [],
      "source": [
        "def data_generator(batch_size = 32):\n",
        "        partial_caps = []\n",
        "        next_words = []\n",
        "        images = []\n",
        "        \n",
        "        df = pd.read_csv('flickr8k_training_dataset.txt', delimiter='\\t')\n",
        "        df = df.sample(frac=1)\n",
        "        iter = df.iterrows()\n",
        "        c = []\n",
        "        imgs = []\n",
        "        for i in range(df.shape[0]):\n",
        "            x = next(iter)\n",
        "            c.append(x[1][1])\n",
        "            imgs.append(x[1][0])\n",
        "\n",
        "\n",
        "        count = 0\n",
        "        while True:\n",
        "            for j, text in enumerate(c):\n",
        "                current_image = encoding_train[imgs[j]]\n",
        "                for i in range(len(text.split())-1):\n",
        "                    count+=1\n",
        "                    \n",
        "                    partial = [word2idx[txt] for txt in text.split()[:i+1]]\n",
        "                    partial_caps.append(partial)\n",
        "                    \n",
        "                    # Initializing with zeros to create a one-hot encoding matrix\n",
        "                    # This is what we have to predict\n",
        "                    # Hence initializing it with vocab_size length\n",
        "                    n = np.zeros(vocab_size)\n",
        "                    # Setting the next word to 1 in the one-hot encoded matrix\n",
        "                    n[word2idx[text.split()[i+1]]] = 1\n",
        "                    next_words.append(n)\n",
        "                    \n",
        "                    images.append(current_image)\n",
        "\n",
        "                    if count>=batch_size:\n",
        "                        next_words = np.asarray(next_words)\n",
        "                        images = np.asarray(images)\n",
        "                        partial_caps = sequence.pad_sequences(partial_caps, maxlen=max_len, padding='post')\n",
        "                        yield [[images, partial_caps], next_words]\n",
        "                        partial_caps = []\n",
        "                        next_words = []\n",
        "                        images = []\n",
        "                        count = 0"
      ]
    },
    {
      "cell_type": "markdown",
      "metadata": {
        "deletable": true,
        "editable": true,
        "id": "us3eYuO_t5ht"
      },
      "source": [
        "## Let's create the model"
      ]
    },
    {
      "cell_type": "code",
      "execution_count": null,
      "metadata": {
        "collapsed": true,
        "deletable": true,
        "editable": true,
        "id": "LSqjBCUEt5ht"
      },
      "outputs": [],
      "source": [
        "embedding_size = 300"
      ]
    },
    {
      "cell_type": "markdown",
      "metadata": {
        "deletable": true,
        "editable": true,
        "id": "Pmr3sTt1t5hu"
      },
      "source": [
        "Input dimension is 4096 since we will feed it the encoded version of the image."
      ]
    },
    {
      "cell_type": "code",
      "execution_count": null,
      "metadata": {
        "collapsed": true,
        "deletable": true,
        "editable": true,
        "id": "1jZ-zf-ut5hu"
      },
      "outputs": [],
      "source": [
        "image_model = Sequential([\n",
        "        Dense(embedding_size, input_shape=(2048,), activation='relu'),\n",
        "        RepeatVector(max_len)\n",
        "    ])"
      ]
    },
    {
      "cell_type": "markdown",
      "metadata": {
        "deletable": true,
        "editable": true,
        "id": "wgd7n1lHt5hu"
      },
      "source": [
        "Since we are going to predict the next word using the previous words(length of previous words changes with every iteration over the caption), we have to set return_sequences = True."
      ]
    },
    {
      "cell_type": "code",
      "execution_count": null,
      "metadata": {
        "deletable": true,
        "editable": true,
        "id": "oqSI8sXzt5hu"
      },
      "outputs": [],
      "source": [
        "caption_model = Sequential([\n",
        "        Embedding(vocab_size, embedding_size, input_length=max_len),\n",
        "        LSTM(256, return_sequences=True),\n",
        "        TimeDistributed(Dense(300))\n",
        "    ])"
      ]
    },
    {
      "cell_type": "markdown",
      "metadata": {
        "deletable": true,
        "editable": true,
        "id": "pFykHTkXt5hu"
      },
      "source": [
        "Merging the models and creating a softmax classifier"
      ]
    },
    {
      "cell_type": "code",
      "execution_count": null,
      "metadata": {
        "collapsed": true,
        "deletable": true,
        "editable": true,
        "id": "Wxjt-TFvt5hu"
      },
      "outputs": [],
      "source": [
        "final_model = Sequential([\n",
        "        Merge([image_model, caption_model], mode='concat', concat_axis=1),\n",
        "        Bidirectional(LSTM(256, return_sequences=False)),\n",
        "        Dense(vocab_size),\n",
        "        Activation('softmax')\n",
        "    ])"
      ]
    },
    {
      "cell_type": "code",
      "execution_count": null,
      "metadata": {
        "deletable": true,
        "editable": true,
        "id": "iP-drQcbt5hv"
      },
      "outputs": [],
      "source": [
        "final_model.compile(loss='categorical_crossentropy', optimizer=RMSprop(), metrics=['accuracy'])"
      ]
    },
    {
      "cell_type": "code",
      "execution_count": null,
      "metadata": {
        "deletable": true,
        "editable": true,
        "id": "HpYk1VJNt5hv"
      },
      "outputs": [],
      "source": [
        "final_model.summary()"
      ]
    },
    {
      "cell_type": "code",
      "execution_count": null,
      "metadata": {
        "collapsed": true,
        "id": "xjzOSKQ6t5hv"
      },
      "outputs": [],
      "source": [
        ""
      ]
    },
    {
      "cell_type": "code",
      "execution_count": null,
      "metadata": {
        "deletable": true,
        "editable": true,
        "id": "6zIHJEPyt5hv"
      },
      "outputs": [],
      "source": [
        "final_model.fit_generator(data_generator(batch_size=128), samples_per_epoch=samples_per_epoch, nb_epoch=1, \n",
        "                          verbose=2)"
      ]
    },
    {
      "cell_type": "code",
      "execution_count": null,
      "metadata": {
        "deletable": true,
        "editable": true,
        "id": "ML8DWKn2t5hv"
      },
      "outputs": [],
      "source": [
        "final_model.fit_generator(data_generator(batch_size=128), samples_per_epoch=samples_per_epoch, nb_epoch=1, \n",
        "                          verbose=2)"
      ]
    },
    {
      "cell_type": "code",
      "execution_count": null,
      "metadata": {
        "deletable": true,
        "editable": true,
        "id": "pArh_6KNt5hw"
      },
      "outputs": [],
      "source": [
        "final_model.fit_generator(data_generator(batch_size=128), samples_per_epoch=samples_per_epoch, nb_epoch=1, \n",
        "                          verbose=2)"
      ]
    },
    {
      "cell_type": "code",
      "execution_count": null,
      "metadata": {
        "deletable": true,
        "editable": true,
        "id": "6aMKVgkft5hw"
      },
      "outputs": [],
      "source": [
        "final_model.fit_generator(data_generator(batch_size=128), samples_per_epoch=samples_per_epoch, nb_epoch=1, \n",
        "                          verbose=2)"
      ]
    },
    {
      "cell_type": "code",
      "execution_count": null,
      "metadata": {
        "deletable": true,
        "editable": true,
        "id": "uB0tBRt8t5hw"
      },
      "outputs": [],
      "source": [
        "final_model.fit_generator(data_generator(batch_size=128), samples_per_epoch=samples_per_epoch, nb_epoch=1, \n",
        "                          verbose=2)"
      ]
    },
    {
      "cell_type": "code",
      "execution_count": null,
      "metadata": {
        "deletable": true,
        "editable": true,
        "id": "pp_J9tTtt5hw"
      },
      "outputs": [],
      "source": [
        "final_model.fit_generator(data_generator(batch_size=128), samples_per_epoch=samples_per_epoch, nb_epoch=1, \n",
        "                          verbose=2)"
      ]
    },
    {
      "cell_type": "code",
      "execution_count": null,
      "metadata": {
        "deletable": true,
        "editable": true,
        "id": "DVFSg2Vct5hx"
      },
      "outputs": [],
      "source": [
        "final_model.optimizer.lr = 1e-4\n",
        "final_model.fit_generator(data_generator(batch_size=128), samples_per_epoch=samples_per_epoch, nb_epoch=1, \n",
        "                          verbose=2)"
      ]
    },
    {
      "cell_type": "code",
      "execution_count": null,
      "metadata": {
        "deletable": true,
        "editable": true,
        "id": "SWiYGyEot5hx"
      },
      "outputs": [],
      "source": [
        "final_model.fit_generator(data_generator(batch_size=128), samples_per_epoch=samples_per_epoch, nb_epoch=1, \n",
        "                          verbose=2)"
      ]
    },
    {
      "cell_type": "code",
      "execution_count": null,
      "metadata": {
        "collapsed": true,
        "deletable": true,
        "editable": true,
        "id": "6-_9V-94t5hx"
      },
      "outputs": [],
      "source": [
        "final_model.save_weights('time_inceptionV3_7_loss_3.2604.h5')"
      ]
    },
    {
      "cell_type": "code",
      "execution_count": null,
      "metadata": {
        "collapsed": true,
        "deletable": true,
        "editable": true,
        "id": "e8IId1Nrt5hx"
      },
      "outputs": [],
      "source": [
        "final_model.load_weights('time_inceptionV3_7_loss_3.2604.h5')"
      ]
    },
    {
      "cell_type": "code",
      "execution_count": null,
      "metadata": {
        "deletable": true,
        "editable": true,
        "id": "2rIkwukZt5hy"
      },
      "outputs": [],
      "source": [
        "final_model.fit_generator(data_generator(batch_size=128), samples_per_epoch=samples_per_epoch, nb_epoch=1, \n",
        "                          verbose=2)"
      ]
    },
    {
      "cell_type": "code",
      "execution_count": null,
      "metadata": {
        "deletable": true,
        "editable": true,
        "id": "iBU2hcZlt5hy"
      },
      "outputs": [],
      "source": [
        "final_model.fit_generator(data_generator(batch_size=128), samples_per_epoch=samples_per_epoch, nb_epoch=1, \n",
        "                          verbose=2)"
      ]
    },
    {
      "cell_type": "code",
      "execution_count": null,
      "metadata": {
        "collapsed": true,
        "id": "9PYfuzS6t5hy"
      },
      "outputs": [],
      "source": [
        "final_model.save_weights('time_inceptionV3_3.21_loss.h5')"
      ]
    },
    {
      "cell_type": "code",
      "execution_count": null,
      "metadata": {
        "id": "9Oeu8_vtt5hy"
      },
      "outputs": [],
      "source": [
        "final_model.fit_generator(data_generator(batch_size=128), samples_per_epoch=samples_per_epoch, nb_epoch=1, \n",
        "                          verbose=2)"
      ]
    },
    {
      "cell_type": "code",
      "execution_count": null,
      "metadata": {
        "id": "wjjAra3Qt5hz"
      },
      "outputs": [],
      "source": [
        "final_model.fit_generator(data_generator(batch_size=128), samples_per_epoch=samples_per_epoch, nb_epoch=1, \n",
        "                          verbose=2)"
      ]
    },
    {
      "cell_type": "code",
      "execution_count": null,
      "metadata": {
        "id": "yB07Gu3ot5hz"
      },
      "outputs": [],
      "source": [
        "final_model.fit_generator(data_generator(batch_size=128), samples_per_epoch=samples_per_epoch, nb_epoch=1, \n",
        "                          verbose=2)"
      ]
    },
    {
      "cell_type": "code",
      "execution_count": null,
      "metadata": {
        "collapsed": true,
        "id": "eRaCXulot5hz"
      },
      "outputs": [],
      "source": [
        "final_model.save_weights('time_inceptionV3_3.15_loss.h5')"
      ]
    },
    {
      "cell_type": "code",
      "execution_count": null,
      "metadata": {
        "id": "Spj-f8w6t5hz"
      },
      "outputs": [],
      "source": [
        "final_model.fit_generator(data_generator(batch_size=128), samples_per_epoch=samples_per_epoch, nb_epoch=1, \n",
        "                          verbose=2)"
      ]
    },
    {
      "cell_type": "code",
      "execution_count": null,
      "metadata": {
        "collapsed": true,
        "id": "WtGuAcs2t5h0"
      },
      "outputs": [],
      "source": [
        "final_model.load_weights('time_inceptionV3_1.5987_loss.h5')"
      ]
    },
    {
      "cell_type": "code",
      "execution_count": null,
      "metadata": {
        "collapsed": true,
        "id": "_3QJigt7t5h0"
      },
      "outputs": [],
      "source": [
        ""
      ]
    },
    {
      "cell_type": "markdown",
      "metadata": {
        "collapsed": true,
        "deletable": true,
        "editable": true,
        "id": "H3FLnTlrt5h0"
      },
      "source": [
        "## Predict funtion"
      ]
    },
    {
      "cell_type": "code",
      "execution_count": null,
      "metadata": {
        "collapsed": true,
        "deletable": true,
        "editable": true,
        "id": "93g7_v8rt5h0"
      },
      "outputs": [],
      "source": [
        "def predict_captions(image):\n",
        "    start_word = [\"<start>\"]\n",
        "    while True:\n",
        "        par_caps = [word2idx[i] for i in start_word]\n",
        "        par_caps = sequence.pad_sequences([par_caps], maxlen=max_len, padding='post')\n",
        "        e = encoding_test[image[len(images):]]\n",
        "        preds = final_model.predict([np.array([e]), np.array(par_caps)])\n",
        "        word_pred = idx2word[np.argmax(preds[0])]\n",
        "        start_word.append(word_pred)\n",
        "        \n",
        "        if word_pred == \"<end>\" or len(start_word) > max_len:\n",
        "            break\n",
        "            \n",
        "    return ' '.join(start_word[1:-1])"
      ]
    },
    {
      "cell_type": "code",
      "execution_count": null,
      "metadata": {
        "deletable": true,
        "editable": true,
        "id": "FPzCwzR9t5h0"
      },
      "outputs": [],
      "source": [
        "def beam_search_predictions(image, beam_index = 3):\n",
        "    start = [word2idx[\"<start>\"]]\n",
        "    \n",
        "    start_word = [[start, 0.0]]\n",
        "    \n",
        "    while len(start_word[0][0]) < max_len:\n",
        "        temp = []\n",
        "        for s in start_word:\n",
        "            par_caps = sequence.pad_sequences([s[0]], maxlen=max_len, padding='post')\n",
        "            e = encoding_test[image[len(images):]]\n",
        "            preds = final_model.predict([np.array([e]), np.array(par_caps)])\n",
        "            \n",
        "            word_preds = np.argsort(preds[0])[-beam_index:]\n",
        "            \n",
        "            # Getting the top <beam_index>(n) predictions and creating a \n",
        "            # new list so as to put them via the model again\n",
        "            for w in word_preds:\n",
        "                next_cap, prob = s[0][:], s[1]\n",
        "                next_cap.append(w)\n",
        "                prob += preds[0][w]\n",
        "                temp.append([next_cap, prob])\n",
        "                    \n",
        "        start_word = temp\n",
        "        # Sorting according to the probabilities\n",
        "        start_word = sorted(start_word, reverse=False, key=lambda l: l[1])\n",
        "        # Getting the top words\n",
        "        start_word = start_word[-beam_index:]\n",
        "    \n",
        "    start_word = start_word[-1][0]\n",
        "    intermediate_caption = [idx2word[i] for i in start_word]\n",
        "\n",
        "    final_caption = []\n",
        "    \n",
        "    for i in intermediate_caption:\n",
        "        if i != '<end>':\n",
        "            final_caption.append(i)\n",
        "        else:\n",
        "            break\n",
        "    \n",
        "    final_caption = ' '.join(final_caption[1:])\n",
        "    return final_caption"
      ]
    },
    {
      "cell_type": "code",
      "execution_count": null,
      "metadata": {
        "deletable": true,
        "editable": true,
        "id": "iu9mNH2Ft5h1"
      },
      "outputs": [],
      "source": [
        "try_image = test_img[0]\n",
        "Image.open(try_image)"
      ]
    },
    {
      "cell_type": "code",
      "execution_count": null,
      "metadata": {
        "deletable": true,
        "editable": true,
        "id": "TY8HweKat5h1"
      },
      "outputs": [],
      "source": [
        "print ('Normal Max search:', predict_captions(try_image)) \n",
        "print ('Beam Search, k=3:', beam_search_predictions(try_image, beam_index=3))\n",
        "print ('Beam Search, k=5:', beam_search_predictions(try_image, beam_index=5))\n",
        "print ('Beam Search, k=7:', beam_search_predictions(try_image, beam_index=7))"
      ]
    },
    {
      "cell_type": "code",
      "execution_count": null,
      "metadata": {
        "collapsed": true,
        "deletable": true,
        "editable": true,
        "id": "QFMX_ZRtt5h1"
      },
      "outputs": [],
      "source": [
        ""
      ]
    },
    {
      "cell_type": "code",
      "execution_count": null,
      "metadata": {
        "collapsed": true,
        "id": "exCNutOOt5h1"
      },
      "outputs": [],
      "source": [
        ""
      ]
    },
    {
      "cell_type": "code",
      "execution_count": null,
      "metadata": {
        "deletable": true,
        "editable": true,
        "id": "_Zz2WsUUt5h1"
      },
      "outputs": [],
      "source": [
        "try_image2 = test_img[7]\n",
        "Image.open(try_image2)"
      ]
    },
    {
      "cell_type": "code",
      "execution_count": null,
      "metadata": {
        "deletable": true,
        "editable": true,
        "id": "LnGoJ2A9t5h2"
      },
      "outputs": [],
      "source": [
        "print ('Normal Max search:', predict_captions(try_image2)) \n",
        "print ('Beam Search, k=3:', beam_search_predictions(try_image2, beam_index=3))\n",
        "print ('Beam Search, k=5:', beam_search_predictions(try_image2, beam_index=5))\n",
        "print ('Beam Search, k=7:', beam_search_predictions(try_image2, beam_index=7))"
      ]
    },
    {
      "cell_type": "code",
      "execution_count": null,
      "metadata": {
        "collapsed": true,
        "deletable": true,
        "editable": true,
        "id": "P_dzgvFst5h2"
      },
      "outputs": [],
      "source": [
        ""
      ]
    },
    {
      "cell_type": "code",
      "execution_count": null,
      "metadata": {
        "collapsed": true,
        "deletable": true,
        "editable": true,
        "id": "ikiM8gIRt5h2"
      },
      "outputs": [],
      "source": [
        ""
      ]
    },
    {
      "cell_type": "code",
      "execution_count": null,
      "metadata": {
        "deletable": true,
        "editable": true,
        "id": "F3-bqPqet5h2"
      },
      "outputs": [],
      "source": [
        "try_image3 = test_img[851]\n",
        "Image.open(try_image3)"
      ]
    },
    {
      "cell_type": "code",
      "execution_count": null,
      "metadata": {
        "deletable": true,
        "editable": true,
        "id": "_SUXs3s7t5h2"
      },
      "outputs": [],
      "source": [
        "print ('Normal Max search:', predict_captions(try_image3)) \n",
        "print ('Beam Search, k=3:', beam_search_predictions(try_image3, beam_index=3))\n",
        "print ('Beam Search, k=5:', beam_search_predictions(try_image3, beam_index=5))\n",
        "print ('Beam Search, k=7:', beam_search_predictions(try_image3, beam_index=7))"
      ]
    },
    {
      "cell_type": "code",
      "execution_count": null,
      "metadata": {
        "deletable": true,
        "editable": true,
        "id": "1sU9souRt5h3"
      },
      "outputs": [],
      "source": [
        ""
      ]
    },
    {
      "cell_type": "code",
      "execution_count": null,
      "metadata": {
        "collapsed": true,
        "deletable": true,
        "editable": true,
        "id": "EhGuteICt5h3"
      },
      "outputs": [],
      "source": [
        ""
      ]
    },
    {
      "cell_type": "code",
      "execution_count": null,
      "metadata": {
        "id": "1QpRHcmPt5h3"
      },
      "outputs": [],
      "source": [
        "try_image4 = 'Flickr8k_Dataset/Flicker8k_Dataset/136552115_6dc3e7231c.jpg'\n",
        "print ('Normal Max search:', predict_captions(try_image4))\n",
        "print ('Beam Search, k=3:', beam_search_predictions(try_image4, beam_index=3))\n",
        "print ('Beam Search, k=5:', beam_search_predictions(try_image4, beam_index=5))\n",
        "print ('Beam Search, k=7:', beam_search_predictions(try_image4, beam_index=7))\n",
        "Image.open(try_image4)"
      ]
    },
    {
      "cell_type": "code",
      "execution_count": null,
      "metadata": {
        "collapsed": true,
        "id": "__VeOkoxt5h3"
      },
      "outputs": [],
      "source": [
        ""
      ]
    },
    {
      "cell_type": "code",
      "execution_count": null,
      "metadata": {
        "collapsed": true,
        "id": "mnDd2TeVt5h3"
      },
      "outputs": [],
      "source": [
        ""
      ]
    },
    {
      "cell_type": "code",
      "execution_count": null,
      "metadata": {
        "id": "7M20zlp1t5h4"
      },
      "outputs": [],
      "source": [
        "im = 'Flickr8k_Dataset/Flicker8k_Dataset/1674612291_7154c5ab61.jpg'\n",
        "print ('Normal Max search:', predict_captions(im))\n",
        "print ('Beam Search, k=3:', beam_search_predictions(im, beam_index=3))\n",
        "print ('Beam Search, k=5:', beam_search_predictions(im, beam_index=5))\n",
        "print ('Beam Search, k=7:', beam_search_predictions(im, beam_index=7))\n",
        "Image.open(im)"
      ]
    },
    {
      "cell_type": "code",
      "execution_count": null,
      "metadata": {
        "collapsed": true,
        "id": "aDyFnhL_t5h4"
      },
      "outputs": [],
      "source": [
        ""
      ]
    },
    {
      "cell_type": "code",
      "execution_count": null,
      "metadata": {
        "id": "e0L7ds3Ht5h4"
      },
      "outputs": [],
      "source": [
        "im = 'Flickr8k_Dataset/Flicker8k_Dataset/384577800_fc325af410.jpg'\n",
        "print ('Normal Max search:', predict_captions(im))\n",
        "print ('Beam Search, k=3:', beam_search_predictions(im, beam_index=3))\n",
        "print ('Beam Search, k=5:', beam_search_predictions(im, beam_index=5))\n",
        "print ('Beam Search, k=7:', beam_search_predictions(im, beam_index=7))\n",
        "Image.open(im)"
      ]
    },
    {
      "cell_type": "code",
      "execution_count": null,
      "metadata": {
        "collapsed": true,
        "id": "Hm99XpCst5h4"
      },
      "outputs": [],
      "source": [
        ""
      ]
    },
    {
      "cell_type": "code",
      "execution_count": null,
      "metadata": {
        "id": "NnUGYdGJt5h5"
      },
      "outputs": [],
      "source": [
        "im = 'Flickr8k_Dataset/Flicker8k_Dataset/3631986552_944ea208fc.jpg'\n",
        "print ('Normal Max search:', predict_captions(im))\n",
        "print ('Beam Search, k=3:', beam_search_predictions(im, beam_index=3))\n",
        "print ('Beam Search, k=5:', beam_search_predictions(im, beam_index=5))\n",
        "print ('Beam Search, k=7:', beam_search_predictions(im, beam_index=7))\n",
        "Image.open(im)"
      ]
    },
    {
      "cell_type": "code",
      "execution_count": null,
      "metadata": {
        "collapsed": true,
        "id": "sp435BGEt5h5"
      },
      "outputs": [],
      "source": [
        ""
      ]
    },
    {
      "cell_type": "code",
      "execution_count": null,
      "metadata": {
        "collapsed": true,
        "id": "vW6DDEvTt5h5"
      },
      "outputs": [],
      "source": [
        ""
      ]
    },
    {
      "cell_type": "code",
      "execution_count": null,
      "metadata": {
        "id": "Prcef4C4t5h5"
      },
      "outputs": [],
      "source": [
        "im = 'Flickr8k_Dataset/Flicker8k_Dataset/3320032226_63390d74a6.jpg'\n",
        "print ('Normal Max search:', predict_captions(im))\n",
        "print ('Beam Search, k=3:', beam_search_predictions(im, beam_index=3))\n",
        "print ('Beam Search, k=5:', beam_search_predictions(im, beam_index=5))\n",
        "print ('Beam Search, k=7:', beam_search_predictions(im, beam_index=7))\n",
        "Image.open(im)"
      ]
    },
    {
      "cell_type": "code",
      "execution_count": null,
      "metadata": {
        "collapsed": true,
        "id": "om5DqV5Tt5h5"
      },
      "outputs": [],
      "source": [
        ""
      ]
    },
    {
      "cell_type": "code",
      "execution_count": null,
      "metadata": {
        "collapsed": true,
        "id": "KUwLk6vFt5h6"
      },
      "outputs": [],
      "source": [
        ""
      ]
    },
    {
      "cell_type": "code",
      "execution_count": null,
      "metadata": {
        "id": "VA6MXEIxt5h6"
      },
      "outputs": [],
      "source": [
        "im = 'Flickr8k_Dataset/Flicker8k_Dataset/3316725440_9ccd9b5417.jpg'\n",
        "print ('Normal Max search:', predict_captions(im))\n",
        "print ('Beam Search, k=3:', beam_search_predictions(im, beam_index=3))\n",
        "print ('Beam Search, k=5:', beam_search_predictions(im, beam_index=5))\n",
        "print ('Beam Search, k=7:', beam_search_predictions(im, beam_index=7))\n",
        "Image.open(im)"
      ]
    },
    {
      "cell_type": "code",
      "execution_count": null,
      "metadata": {
        "collapsed": true,
        "id": "mvmpzVhGt5h6"
      },
      "outputs": [],
      "source": [
        ""
      ]
    },
    {
      "cell_type": "code",
      "execution_count": null,
      "metadata": {
        "id": "UhkOuTvet5h6"
      },
      "outputs": [],
      "source": [
        "im = 'Flickr8k_Dataset/Flicker8k_Dataset/2306674172_dc07c7f847.jpg'\n",
        "print ('Normal Max search:', predict_captions(im))\n",
        "print ('Beam Search, k=3:', beam_search_predictions(im, beam_index=3))\n",
        "print ('Beam Search, k=5:', beam_search_predictions(im, beam_index=5))\n",
        "print ('Beam Search, k=7:', beam_search_predictions(im, beam_index=7))\n",
        "Image.open(im)"
      ]
    },
    {
      "cell_type": "code",
      "execution_count": null,
      "metadata": {
        "collapsed": true,
        "id": "v5KHLKoet5h6"
      },
      "outputs": [],
      "source": [
        ""
      ]
    },
    {
      "cell_type": "code",
      "execution_count": null,
      "metadata": {
        "id": "-kxbTWdmt5h6"
      },
      "outputs": [],
      "source": [
        "im = 'Flickr8k_Dataset/Flicker8k_Dataset/2542662402_d781dd7f7c.jpg'\n",
        "print ('Normal Max search:', predict_captions(im))\n",
        "print ('Beam Search, k=3:', beam_search_predictions(im, beam_index=3))\n",
        "print ('Beam Search, k=5:', beam_search_predictions(im, beam_index=5))\n",
        "print ('Beam Search, k=7:', beam_search_predictions(im, beam_index=7))\n",
        "Image.open(im)"
      ]
    },
    {
      "cell_type": "code",
      "execution_count": null,
      "metadata": {
        "collapsed": true,
        "id": "gFmKJb6Mt5h7"
      },
      "outputs": [],
      "source": [
        ""
      ]
    },
    {
      "cell_type": "code",
      "execution_count": null,
      "metadata": {
        "collapsed": true,
        "id": "MEFGHUCOt5h7"
      },
      "outputs": [],
      "source": [
        ""
      ]
    },
    {
      "cell_type": "code",
      "execution_count": null,
      "metadata": {
        "id": "Lhm4pTTAt5h7"
      },
      "outputs": [],
      "source": [
        "im = test_img[int(np.random.randint(0, 1000, size=1))]\n",
        "print (im)\n",
        "print ('Normal Max search:', predict_captions(im))\n",
        "print ('Beam Search, k=3:', beam_search_predictions(im, beam_index=3))\n",
        "print ('Beam Search, k=5:', beam_search_predictions(im, beam_index=5))\n",
        "print ('Beam Search, k=7:', beam_search_predictions(im, beam_index=7))\n",
        "Image.open(im)"
      ]
    },
    {
      "cell_type": "code",
      "execution_count": null,
      "metadata": {
        "collapsed": true,
        "id": "Pu7xovtSt5h7"
      },
      "outputs": [],
      "source": [
        ""
      ]
    },
    {
      "cell_type": "code",
      "execution_count": null,
      "metadata": {
        "collapsed": true,
        "id": "7kOYf_D5t5h7"
      },
      "outputs": [],
      "source": [
        ""
      ]
    }
  ],
  "metadata": {
    "anaconda-cloud": {},
    "kernelspec": {
      "display_name": "Python [conda env:python35]",
      "language": "python",
      "name": "conda-env-python35-py"
    },
    "language_info": {
      "codemirror_mode": {
        "name": "ipython",
        "version": 3
      },
      "file_extension": ".py",
      "mimetype": "text/x-python",
      "name": "python",
      "nbconvert_exporter": "python",
      "pygments_lexer": "ipython3",
      "version": "3.5.2"
    },
    "colab": {
      "name": "Image Captioning InceptionV3.ipynb",
      "provenance": [],
      "include_colab_link": true
    }
  },
  "nbformat": 4,
  "nbformat_minor": 0
}